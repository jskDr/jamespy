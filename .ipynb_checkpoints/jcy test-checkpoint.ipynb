{
 "cells": [
  {
   "cell_type": "code",
   "execution_count": 1,
   "metadata": {
    "collapsed": false
   },
   "outputs": [
    {
     "name": "stdout",
     "output_type": "stream",
     "text": [
      "Compiling jcy.pyx because it changed.\n",
      "Cythonizing jcy.pyx\n",
      "running build_ext\n",
      "building 'jcy' extension\n",
      "x86_64-linux-gnu-gcc -pthread -fno-strict-aliasing -DNDEBUG -g -fwrapv -O2 -Wall -Wstrict-prototypes -fPIC -I/usr/include/python2.7 -c jcy.c -o build/temp.linux-x86_64-2.7/jcy.o\n",
      "In file included from /usr/include/python2.7/numpy/ndarraytypes.h:1761:0,\n",
      "                 from /usr/include/python2.7/numpy/ndarrayobject.h:17,\n",
      "                 from /usr/include/python2.7/numpy/arrayobject.h:4,\n",
      "                 from jcy.c:258:\n",
      "/usr/include/python2.7/numpy/npy_1_7_deprecated_api.h:15:2: warning: #warning \"Using deprecated NumPy API, disable it by \" \"#defining NPY_NO_DEPRECATED_API NPY_1_7_API_VERSION\" [-Wcpp]\n",
      " #warning \"Using deprecated NumPy API, disable it by \" \\\n",
      "  ^\n",
      "In file included from /usr/include/python2.7/numpy/ndarrayobject.h:26:0,\n",
      "                 from /usr/include/python2.7/numpy/arrayobject.h:4,\n",
      "                 from jcy.c:258:\n",
      "/usr/include/python2.7/numpy/__multiarray_api.h:1629:1: warning: ‘_import_array’ defined but not used [-Wunused-function]\n",
      " _import_array(void)\n",
      " ^\n",
      "In file included from /usr/include/python2.7/numpy/ufuncobject.h:327:0,\n",
      "                 from jcy.c:259:\n",
      "/usr/include/python2.7/numpy/__ufunc_api.h:241:1: warning: ‘_import_umath’ defined but not used [-Wunused-function]\n",
      " _import_umath(void)\n",
      " ^\n",
      "x86_64-linux-gnu-gcc -pthread -shared -Wl,-O1 -Wl,-Bsymbolic-functions -Wl,-Bsymbolic-functions -Wl,-z,relro -fno-strict-aliasing -DNDEBUG -g -fwrapv -O2 -Wall -Wstrict-prototypes -D_FORTIFY_SOURCE=2 -g -fstack-protector --param=ssp-buffer-size=4 -Wformat -Werror=format-security build/temp.linux-x86_64-2.7/jcy.o -o /home/jamessungjinkim/Dropbox/Aspuru-Guzik/python_lab/jamespy/jcy.so\n"
     ]
    },
    {
     "data": {
      "text/plain": [
       "<module 'jcy' from 'jcy.so'>"
      ]
     },
     "execution_count": 1,
     "metadata": {},
     "output_type": "execute_result"
    }
   ],
   "source": [
    "import numpy as np\n",
    "!python setup_cy.py build_ext --inplace\n",
    "\n",
    "#The following codes for cython testing\n",
    "import jpy\n",
    "import jcy\n",
    "\n",
    "reload( jpy)\n",
    "#In cython, reload is not supported because it is related to kernal functions. \n",
    "reload( jcy)"
   ]
  },
  {
   "cell_type": "markdown",
   "metadata": {},
   "source": [
    "##Numpy testing"
   ]
  },
  {
   "cell_type": "code",
   "execution_count": 2,
   "metadata": {
    "collapsed": false
   },
   "outputs": [
    {
     "name": "stdout",
     "output_type": "stream",
     "text": [
      "[1, 2, 3]\n"
     ]
    }
   ],
   "source": [
    "A = [2,2,3]\n",
    "jcy.f_test(A)\n",
    "print A"
   ]
  },
  {
   "cell_type": "code",
   "execution_count": 3,
   "metadata": {
    "collapsed": false
   },
   "outputs": [],
   "source": [
    "C = np.array([0,0], dtype = np.float64)\n",
    "A = np.array([1,2], dtype = np.float64)\n",
    "B = np.array([3,5], dtype = np.float64)"
   ]
  },
  {
   "cell_type": "code",
   "execution_count": 5,
   "metadata": {
    "collapsed": false
   },
   "outputs": [
    {
     "name": "stdout",
     "output_type": "stream",
     "text": [
      "The slowest run took 4.02 times longer than the fastest. This could mean that an intermediate result is being cached \n",
      "100000 loops, best of 3: 4.93 µs per loop\n",
      "[ 4.  7.]\n"
     ]
    }
   ],
   "source": [
    "%timeit jcy.jsum_float( C, A, B, 1000)\n",
    "print C"
   ]
  },
  {
   "cell_type": "code",
   "execution_count": 6,
   "metadata": {
    "collapsed": false
   },
   "outputs": [
    {
     "name": "stdout",
     "output_type": "stream",
     "text": [
      "1000 loops, best of 3: 568 µs per loop\n",
      "[ 4.  7.]\n"
     ]
    }
   ],
   "source": [
    "%timeit jpy.jsum_float( C, A, B, 1000)\n",
    "print C"
   ]
  },
  {
   "cell_type": "markdown",
   "metadata": {},
   "source": [
    "##jsum testing\n",
    "* jsum is very basic function for testing cython. It should be mcuh faster in cython than in python. "
   ]
  },
  {
   "cell_type": "code",
   "execution_count": 20,
   "metadata": {
    "collapsed": false
   },
   "outputs": [
    {
     "name": "stdout",
     "output_type": "stream",
     "text": [
      "1000 loops, best of 3: 394 µs per loop\n",
      "10 loops, best of 3: 97 ms per loop\n"
     ]
    },
    {
     "data": {
      "text/plain": [
       "238.11881188118812"
      ]
     },
     "execution_count": 20,
     "metadata": {},
     "output_type": "execute_result"
    }
   ],
   "source": [
    "%timeit jcy.jsum( 100)\n",
    "%timeit jpy.jsum( 100)\n",
    "96.2*1e3/404"
   ]
  },
  {
   "cell_type": "code",
   "execution_count": 11,
   "metadata": {
    "collapsed": false
   },
   "outputs": [
    {
     "name": "stdout",
     "output_type": "stream",
     "text": [
      "[1 2] [3 5] [0 0]\n"
     ]
    }
   ],
   "source": [
    "C = np.array([0,0])\n",
    "A = np.array([1,2])\n",
    "B = np.array([3,5])\n",
    "print A, B, C"
   ]
  },
  {
   "cell_type": "code",
   "execution_count": 8,
   "metadata": {
    "collapsed": false
   },
   "outputs": [
    {
     "name": "stdout",
     "output_type": "stream",
     "text": [
      "[0 0]\n"
     ]
    }
   ],
   "source": [
    "jpy.jsum_float( C, A, B)\n",
    "print C"
   ]
  },
  {
   "cell_type": "code",
   "execution_count": 4,
   "metadata": {
    "collapsed": false
   },
   "outputs": [
    {
     "name": "stdout",
     "output_type": "stream",
     "text": [
      "[1, 2, 3]\n"
     ]
    }
   ],
   "source": [
    "def f(A):\n",
    "    A[0] = 1\n",
    "\n",
    "\n",
    "f(A)\n",
    "print A"
   ]
  },
  {
   "cell_type": "code",
   "execution_count": 9,
   "metadata": {
    "collapsed": false
   },
   "outputs": [
    {
     "name": "stdout",
     "output_type": "stream",
     "text": [
      "[1 2 3]\n"
     ]
    }
   ],
   "source": [
    "def f(A):\n",
    "    A[0] = 1\n",
    "\n",
    "A = np.array([2,2,3])\n",
    "f(A)\n",
    "print A"
   ]
  },
  {
   "cell_type": "code",
   "execution_count": 8,
   "metadata": {
    "collapsed": false
   },
   "outputs": [
    {
     "name": "stdout",
     "output_type": "stream",
     "text": [
      "[1, 2, 3]\n"
     ]
    }
   ],
   "source": [
    "jpy.f(A)\n",
    "print A"
   ]
  },
  {
   "cell_type": "code",
   "execution_count": null,
   "metadata": {
    "collapsed": true
   },
   "outputs": [],
   "source": []
  }
 ],
 "metadata": {
  "kernelspec": {
   "display_name": "Python 2",
   "language": "python",
   "name": "python2"
  },
  "language_info": {
   "codemirror_mode": {
    "name": "ipython",
    "version": 2
   },
   "file_extension": ".py",
   "mimetype": "text/x-python",
   "name": "python",
   "nbconvert_exporter": "python",
   "pygments_lexer": "ipython2",
   "version": "2.7.6"
  }
 },
 "nbformat": 4,
 "nbformat_minor": 0
}
